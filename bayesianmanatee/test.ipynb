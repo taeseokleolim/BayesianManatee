{
 "cells": [
  {
   "cell_type": "code",
   "execution_count": 7,
   "metadata": {},
   "outputs": [],
   "source": [
    "from bayesianmanatee.base import LogitNUTS"
   ]
  },
  {
   "cell_type": "code",
   "execution_count": 8,
   "metadata": {},
   "outputs": [
    {
     "ename": "TypeError",
     "evalue": "__init__() takes exactly 4 positional arguments (0 given)",
     "output_type": "error",
     "traceback": [
      "\u001b[0;31m---------------------------------------------------------------------------\u001b[0m",
      "\u001b[0;31mTypeError\u001b[0m                                 Traceback (most recent call last)",
      "Cell \u001b[0;32mIn[8], line 1\u001b[0m\n\u001b[0;32m----> 1\u001b[0m model \u001b[38;5;241m=\u001b[39m LogitNUTS()\n",
      "File \u001b[0;32m/home/BayesianManatee/bayesianmanatee/base.pyx:78\u001b[0m, in \u001b[0;36mbayesianmanatee.base.LogitNUTS.__init__\u001b[0;34m()\u001b[0m\n\u001b[1;32m     76\u001b[0m \n\u001b[1;32m     77\u001b[0m cdef class LogitNUTS(BaseNUTS):\n\u001b[0;32m---> 78\u001b[0m     def __init__(self, np.ndarray[double, ndim=2] X, np.ndarray[double, ndim=1] y, int n_param, double epsilon):\n\u001b[1;32m     79\u001b[0m         super().__init__(X, y, n_param, epsilon)\n\u001b[1;32m     80\u001b[0m \n",
      "\u001b[0;31mTypeError\u001b[0m: __init__() takes exactly 4 positional arguments (0 given)"
     ]
    }
   ],
   "source": [
    "model = LogitNUTS()"
   ]
  },
  {
   "cell_type": "code",
   "execution_count": null,
   "metadata": {},
   "outputs": [],
   "source": []
  }
 ],
 "metadata": {
  "kernelspec": {
   "display_name": "manatee",
   "language": "python",
   "name": "python3"
  },
  "language_info": {
   "codemirror_mode": {
    "name": "ipython",
    "version": 3
   },
   "file_extension": ".py",
   "mimetype": "text/x-python",
   "name": "python",
   "nbconvert_exporter": "python",
   "pygments_lexer": "ipython3",
   "version": "3.11.9"
  }
 },
 "nbformat": 4,
 "nbformat_minor": 2
}
